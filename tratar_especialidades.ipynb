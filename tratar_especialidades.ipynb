{
 "cells": [
  {
   "cell_type": "code",
   "execution_count": 6,
   "metadata": {},
   "outputs": [
    {
     "data": {
      "text/html": [
       "<div>\n",
       "<style scoped>\n",
       "    .dataframe tbody tr th:only-of-type {\n",
       "        vertical-align: middle;\n",
       "    }\n",
       "\n",
       "    .dataframe tbody tr th {\n",
       "        vertical-align: top;\n",
       "    }\n",
       "\n",
       "    .dataframe thead th {\n",
       "        text-align: right;\n",
       "    }\n",
       "</style>\n",
       "<table border=\"1\" class=\"dataframe\">\n",
       "  <thead>\n",
       "    <tr style=\"text-align: right;\">\n",
       "      <th></th>\n",
       "      <th>Nome</th>\n",
       "      <th>CRM</th>\n",
       "      <th>Data Inscrição</th>\n",
       "      <th>Primeira Inscrição</th>\n",
       "      <th>Inscrição</th>\n",
       "      <th>Situação</th>\n",
       "      <th>Especialidades</th>\n",
       "      <th>Endereço</th>\n",
       "      <th>Telefone</th>\n",
       "      <th>cidade</th>\n",
       "    </tr>\n",
       "  </thead>\n",
       "  <tbody>\n",
       "    <tr>\n",
       "      <th>0</th>\n",
       "      <td>ABDALLA UBALDO FELÍCIO</td>\n",
       "      <td>36288-MG</td>\n",
       "      <td>26/04/2002</td>\n",
       "      <td>28/08/2001</td>\n",
       "      <td>Principal</td>\n",
       "      <td>Regular</td>\n",
       "      <td>Inscrições em outro estado: SP/106166 (Transfe...</td>\n",
       "      <td>Exibição não autorizada pelo médico.</td>\n",
       "      <td>Exibição não autorizada pelo médico.</td>\n",
       "      <td>Belo Horizonte</td>\n",
       "    </tr>\n",
       "    <tr>\n",
       "      <th>1</th>\n",
       "      <td>ABDENACK ESTEVES TRINDADE</td>\n",
       "      <td>25324-MG</td>\n",
       "      <td>11/04/1994</td>\n",
       "      <td>27/08/1992</td>\n",
       "      <td>Principal</td>\n",
       "      <td>Regular</td>\n",
       "      <td>Inscrições em outro estado: DF/8171 (Transferi...</td>\n",
       "      <td>Exibição não autorizada pelo médico.</td>\n",
       "      <td>Exibição não autorizada pelo médico.</td>\n",
       "      <td>Belo Horizonte</td>\n",
       "    </tr>\n",
       "    <tr>\n",
       "      <th>2</th>\n",
       "      <td>ABEL JOSÉ AGUIAR DE MAGALHÃES JÚNIOR</td>\n",
       "      <td>51723-MG</td>\n",
       "      <td>06/07/2010</td>\n",
       "      <td>06/07/2010</td>\n",
       "      <td>Principal</td>\n",
       "      <td>Regular</td>\n",
       "      <td>Inscrições em outro estado:, Especialidades/Ár...</td>\n",
       "      <td>Exibição não autorizada pelo médico.</td>\n",
       "      <td>Exibição não autorizada pelo médico.</td>\n",
       "      <td>Belo Horizonte</td>\n",
       "    </tr>\n",
       "    <tr>\n",
       "      <th>3</th>\n",
       "      <td>ABEL MENDONÇA ALVES</td>\n",
       "      <td>86396-MG</td>\n",
       "      <td>20/01/2021</td>\n",
       "      <td>20/01/2021</td>\n",
       "      <td>Principal</td>\n",
       "      <td>Regular</td>\n",
       "      <td>Inscrições em outro estado:, Especialidades/Ár...</td>\n",
       "      <td>Exibição não autorizada pelo médico.</td>\n",
       "      <td>Exibição não autorizada pelo médico.</td>\n",
       "      <td>Belo Horizonte</td>\n",
       "    </tr>\n",
       "    <tr>\n",
       "      <th>4</th>\n",
       "      <td>ABELARDO DE FREITAS</td>\n",
       "      <td>3843-MG</td>\n",
       "      <td>07/01/1964</td>\n",
       "      <td>07/01/1964</td>\n",
       "      <td>Principal</td>\n",
       "      <td>Regular</td>\n",
       "      <td>Inscrições em outro estado:, Especialidades/Ár...</td>\n",
       "      <td>Exibição não autorizada pelo médico.</td>\n",
       "      <td>Exibição não autorizada pelo médico.</td>\n",
       "      <td>Belo Horizonte</td>\n",
       "    </tr>\n",
       "  </tbody>\n",
       "</table>\n",
       "</div>"
      ],
      "text/plain": [
       "                                   Nome       CRM Data Inscrição  \\\n",
       "0                ABDALLA UBALDO FELÍCIO  36288-MG     26/04/2002   \n",
       "1             ABDENACK ESTEVES TRINDADE  25324-MG     11/04/1994   \n",
       "2  ABEL JOSÉ AGUIAR DE MAGALHÃES JÚNIOR  51723-MG     06/07/2010   \n",
       "3                   ABEL MENDONÇA ALVES  86396-MG     20/01/2021   \n",
       "4                   ABELARDO DE FREITAS   3843-MG     07/01/1964   \n",
       "\n",
       "  Primeira Inscrição  Inscrição Situação  \\\n",
       "0         28/08/2001  Principal  Regular   \n",
       "1         27/08/1992  Principal  Regular   \n",
       "2         06/07/2010  Principal  Regular   \n",
       "3         20/01/2021  Principal  Regular   \n",
       "4         07/01/1964  Principal  Regular   \n",
       "\n",
       "                                      Especialidades  \\\n",
       "0  Inscrições em outro estado: SP/106166 (Transfe...   \n",
       "1  Inscrições em outro estado: DF/8171 (Transferi...   \n",
       "2  Inscrições em outro estado:, Especialidades/Ár...   \n",
       "3  Inscrições em outro estado:, Especialidades/Ár...   \n",
       "4  Inscrições em outro estado:, Especialidades/Ár...   \n",
       "\n",
       "                               Endereço                              Telefone  \\\n",
       "0  Exibição não autorizada pelo médico.  Exibição não autorizada pelo médico.   \n",
       "1  Exibição não autorizada pelo médico.  Exibição não autorizada pelo médico.   \n",
       "2  Exibição não autorizada pelo médico.  Exibição não autorizada pelo médico.   \n",
       "3  Exibição não autorizada pelo médico.  Exibição não autorizada pelo médico.   \n",
       "4  Exibição não autorizada pelo médico.  Exibição não autorizada pelo médico.   \n",
       "\n",
       "           cidade  \n",
       "0  Belo Horizonte  \n",
       "1  Belo Horizonte  \n",
       "2  Belo Horizonte  \n",
       "3  Belo Horizonte  \n",
       "4  Belo Horizonte  "
      ]
     },
     "execution_count": 6,
     "metadata": {},
     "output_type": "execute_result"
    }
   ],
   "source": [
    "import pandas as pd\n",
    "\n",
    "# Carregar o arquivo CSV original\n",
    "csv_original = pd.read_csv(\"csvs/tratados/medicos_mg.csv\")\n",
    "csv_original.head()"
   ]
  },
  {
   "cell_type": "code",
   "execution_count": 2,
   "metadata": {},
   "outputs": [
    {
     "data": {
      "text/html": [
       "<div>\n",
       "<style scoped>\n",
       "    .dataframe tbody tr th:only-of-type {\n",
       "        vertical-align: middle;\n",
       "    }\n",
       "\n",
       "    .dataframe tbody tr th {\n",
       "        vertical-align: top;\n",
       "    }\n",
       "\n",
       "    .dataframe thead th {\n",
       "        text-align: right;\n",
       "    }\n",
       "</style>\n",
       "<table border=\"1\" class=\"dataframe\">\n",
       "  <thead>\n",
       "    <tr style=\"text-align: right;\">\n",
       "      <th></th>\n",
       "      <th>ID</th>\n",
       "      <th>Especialidade</th>\n",
       "    </tr>\n",
       "  </thead>\n",
       "  <tbody>\n",
       "    <tr>\n",
       "      <th>0</th>\n",
       "      <td>1</td>\n",
       "      <td>Acupuntura</td>\n",
       "    </tr>\n",
       "    <tr>\n",
       "      <th>1</th>\n",
       "      <td>2</td>\n",
       "      <td>Alergia e imunologia</td>\n",
       "    </tr>\n",
       "    <tr>\n",
       "      <th>2</th>\n",
       "      <td>3</td>\n",
       "      <td>Anestesiologia</td>\n",
       "    </tr>\n",
       "    <tr>\n",
       "      <th>3</th>\n",
       "      <td>4</td>\n",
       "      <td>Angiologia</td>\n",
       "    </tr>\n",
       "    <tr>\n",
       "      <th>4</th>\n",
       "      <td>5</td>\n",
       "      <td>Cardiologia</td>\n",
       "    </tr>\n",
       "  </tbody>\n",
       "</table>\n",
       "</div>"
      ],
      "text/plain": [
       "   ID         Especialidade\n",
       "0   1            Acupuntura\n",
       "1   2  Alergia e imunologia\n",
       "2   3        Anestesiologia\n",
       "3   4            Angiologia\n",
       "4   5           Cardiologia"
      ]
     },
     "execution_count": 2,
     "metadata": {},
     "output_type": "execute_result"
    }
   ],
   "source": [
    "# Carregar o arquivo de especialidades\n",
    "especialidades = pd.read_csv(\"csvs/tratados/especialidades.csv\")\n",
    "especialidades.head()"
   ]
  },
  {
   "cell_type": "code",
   "execution_count": 7,
   "metadata": {},
   "outputs": [
    {
     "name": "stdout",
     "output_type": "stream",
     "text": [
      "['Acupuntura', 'Alergia e imunologia', 'Anestesiologia', 'Angiologia', 'Cardiologia', 'Cirurgia cardiovascular', 'Cirurgia da mão', 'Cirurgia de cabeça e pescoço', 'Cirurgia do aparelho digestivo', 'Cirurgia geral', 'Cirurgia oncológica', 'Cirurgia pediátrica', 'Cirurgia plástica', 'Cirurgia torácica', 'Cirurgia vascular', 'Clínica médica', 'Coloproctologia', 'Dermatologia', 'Endocrinologia e metabologia', 'Endoscopia', 'Gastroenterologia', 'Genética médica', 'Geriatria', 'Ginecologia e obstetrícia', 'Hematologia e hemoterapia', 'Homeopatia', 'Infectologia', 'Mastologia', 'Medicina de emergência', 'Medicina de família e comunidade', 'Medicina do trabalho', 'Medicina do tráfego', 'Medicina esportiva', 'Medicina física e reabilitação', 'Medicina intensiva', 'Medicina legal e perícia médica', 'Medicina nuclear', 'Medicina preventiva e social', 'Nefrologia', 'Neurocirurgia', 'Neurologia', 'Nutrologia', 'Oftalmologia', 'Oncologia clínica', 'Ortopedia e traumatologia', 'Otorrinolaringologia', 'Patologia', 'Patologia clínica/medicina laboratorial', 'Pediatria', 'Pneumologia', 'Psiquiatria', 'Radiologia e diagnóstico por imagem', 'Radioterapia', 'Reumatologia', 'Urologia', 'Administração em saúde', 'Alergia e imunologia pediátrica', 'Angiorradiologia e cirurgia endovascular', 'Atendimento ao queimado', 'Auditoria Médica', 'Cardiologia pediátrica', 'Cirurgia bariátrica', 'Cirurgia crânio-maxilo-facial', 'Cirurgia do trauma', 'Cirurgia videolaparoscópica', 'Citopatologia', 'Densitometria óssea', 'Dor', 'Ecocardiografia', 'Ecografia vascular com doppler', 'Eletrofisiologia clínica invasiva', 'Emergência pediátrica', 'Endocrinologia pediátrica', 'Endoscopia digestiva', 'Endoscopia ginecológica', 'Endoscopia respiratória', 'Ergometria', 'Estimulação cardíaca eletrônica implantável', 'Foniatria', 'Gastroenterologia pediátrica', 'Hansenologia', 'Hematologia e hemoterapia pediátrica', 'Hemodinâmica e cardiologia intervencionista', 'Hepatologia', 'Infectologia hospitalar', 'Infectologia pediátrica', 'Mamografia', 'Medicina aeroespacial', 'Medicina do adolescente', 'Medicina do sono', 'Medicina fetal', 'Medicina intensiva pediátrica', 'Medicina paliativa', 'Medicina tropical', 'Nefrologia pediátrica', 'Neonatologia', 'Neurofisiologia clínica', 'Neurologia pediátrica', 'Neurorradiologia', 'Nutrição parenteral e enteral', 'Nutrição parenteral e enteral pediátrica', 'Nutrologia pediátrica', 'Oncologia pediátrica', 'Pneumologia pediátrica', 'Psicogeriatria', 'Psicoterapia', 'Psiquiatria da infância e adolescência', 'Psiquiatria forense', 'Radiologia intervencionista e angiorradiologia', 'Reprodução assistida', 'Reumatologia pediátrica', 'Sexologia', 'Toxicologia médica', 'Transplante de medula óssea', 'Ultrassonografia em ginecologia e obstetrícia', 'Ultrassonografia geral', 'Clínico Geral']\n"
     ]
    }
   ],
   "source": [
    "# Garantir que as especialidades de interesse estão em uma lista\n",
    "especialidades_lista = [esp.strip().upper() for esp in especialidades_str.split(',')]\n",
    "print(especialidades_lista)"
   ]
  },
  {
   "cell_type": "code",
   "execution_count": 14,
   "metadata": {},
   "outputs": [
    {
     "data": {
      "text/plain": [
       "0    Inscrições em outro estado: SP/106166 (Transfe...\n",
       "1    Inscrições em outro estado: DF/8171 (Transferi...\n",
       "2    Inscrições em outro estado:, Especialidades/Ár...\n",
       "3    Inscrições em outro estado:, Especialidades/Ár...\n",
       "4    Inscrições em outro estado:, Especialidades/Ár...\n",
       "Name: Especialidades, dtype: object"
      ]
     },
     "execution_count": 14,
     "metadata": {},
     "output_type": "execute_result"
    }
   ],
   "source": [
    "# Função para filtrar e formatar especialidades\n",
    "def formatar_especialidades(especialidades_str):\n",
    "    # Dividir as especialidades existentes\n",
    "    especialidades_lista = [esp.strip() for esp in especialidades_str.split(',')]  # Supondo que o delimitador seja \";\"\n",
    "    # Filtrar pelas especialidades de interesse\n",
    "    especialidades_filtradas = [esp for esp in especialidades_lista if esp in especialidades_interesse]\n",
    "    # Retornar as especialidades formatadas\n",
    "    return \", \".join(especialidades_filtradas)\n",
    "\n",
    "# Aplicar a formatação e filtragem na coluna de especialidades\n",
    "csv_original['Especialidades Formatadas'] = csv_original['Especialidades'].apply(formatar_especialidades)\n",
    "csv_original['Especialidades'].head()"
   ]
  },
  {
   "cell_type": "code",
   "execution_count": null,
   "metadata": {},
   "outputs": [],
   "source": [
    "# Filtrar apenas as linhas onde há especialidades de interesse\n",
    "csv_filtrado = csv_original[csv_original['Especialidades Formatadas'] != \"\"]\n",
    "\n",
    "# Salvar o resultado em um novo arquivo CSV\n",
    "csv_filtrado.to_csv(\"csvs/tratados/dados_filtrados.csv\", index=False)\n",
    "csv_filtrado.head()"
   ]
  }
 ],
 "metadata": {
  "kernelspec": {
   "display_name": "Python 3",
   "language": "python",
   "name": "python3"
  },
  "language_info": {
   "codemirror_mode": {
    "name": "ipython",
    "version": 3
   },
   "file_extension": ".py",
   "mimetype": "text/x-python",
   "name": "python",
   "nbconvert_exporter": "python",
   "pygments_lexer": "ipython3",
   "version": "3.12.2"
  }
 },
 "nbformat": 4,
 "nbformat_minor": 2
}
