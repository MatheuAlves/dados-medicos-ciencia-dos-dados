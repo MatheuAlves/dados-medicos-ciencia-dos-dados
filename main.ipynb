{
 "cells": [
  {
   "cell_type": "markdown",
   "metadata": {},
   "source": [
    "### Imports ###"
   ]
  },
  {
   "cell_type": "code",
   "execution_count": 1,
   "metadata": {},
   "outputs": [],
   "source": [
    "from selenium import webdriver\n",
    "from selenium.webdriver.chrome.service import Service\n",
    "from selenium.webdriver.common.by import By\n",
    "from selenium.webdriver.support.ui import Select"
   ]
  },
  {
   "cell_type": "markdown",
   "metadata": {},
   "source": [
    "### Configuração Selenium ###"
   ]
  },
  {
   "cell_type": "code",
   "execution_count": 24,
   "metadata": {},
   "outputs": [],
   "source": [
    "service = Service()\n",
    "options = webdriver.ChromeOptions()\n",
    "driver = webdriver.Chrome(service=service, options=options)"
   ]
  },
  {
   "cell_type": "markdown",
   "metadata": {},
   "source": [
    "### URL ###"
   ]
  },
  {
   "cell_type": "code",
   "execution_count": null,
   "metadata": {},
   "outputs": [],
   "source": [
    "url = \"https://portal.cfm.org.br/busca-medicos\"\n",
    "driver.get(url)"
   ]
  },
  {
   "cell_type": "markdown",
   "metadata": {},
   "source": [
    "### Selecionar UF e SITUACAO ###"
   ]
  },
  {
   "cell_type": "code",
   "execution_count": 4,
   "metadata": {},
   "outputs": [
    {
     "ename": "ElementClickInterceptedException",
     "evalue": "Message: element click intercepted: Element <button class=\"w-100 btn-buscar btnPesquisar \" type=\"submit\">...</button> is not clickable at point (713, 761). Other element would receive the click: <div class=\"aviso-lgpd row fixed-bottom mensagem-lgpd text-left text-white p-4 shadow d-flex\">...</div>\n  (Session info: chrome=131.0.6778.86)\nStacktrace:\n\tGetHandleVerifier [0x00007FF7AC436CF5+28821]\n\t(No symbol) [0x00007FF7AC3A3880]\n\t(No symbol) [0x00007FF7AC24578A]\n\t(No symbol) [0x00007FF7AC2A0E8E]\n\t(No symbol) [0x00007FF7AC29E92C]\n\t(No symbol) [0x00007FF7AC29BAF6]\n\t(No symbol) [0x00007FF7AC29AA51]\n\t(No symbol) [0x00007FF7AC28CBA0]\n\t(No symbol) [0x00007FF7AC2BF2FA]\n\t(No symbol) [0x00007FF7AC28C3F6]\n\t(No symbol) [0x00007FF7AC2BF510]\n\t(No symbol) [0x00007FF7AC2DF412]\n\t(No symbol) [0x00007FF7AC2BF0A3]\n\t(No symbol) [0x00007FF7AC28A778]\n\t(No symbol) [0x00007FF7AC28B8E1]\n\tGetHandleVerifier [0x00007FF7AC76FCED+3408013]\n\tGetHandleVerifier [0x00007FF7AC78745F+3504127]\n\tGetHandleVerifier [0x00007FF7AC77B63D+3455453]\n\tGetHandleVerifier [0x00007FF7AC4FBDFB+835995]\n\t(No symbol) [0x00007FF7AC3AEB9F]\n\t(No symbol) [0x00007FF7AC3AA854]\n\t(No symbol) [0x00007FF7AC3AA9ED]\n\t(No symbol) [0x00007FF7AC39A1D9]\n\tBaseThreadInitThunk [0x00007FFE8114259D+29]\n\tRtlUserThreadStart [0x00007FFE8284AF38+40]\n",
     "output_type": "error",
     "traceback": [
      "\u001b[1;31m---------------------------------------------------------------------------\u001b[0m",
      "\u001b[1;31mElementClickInterceptedException\u001b[0m          Traceback (most recent call last)",
      "Cell \u001b[1;32mIn[4], line 16\u001b[0m\n\u001b[0;32m     13\u001b[0m select\u001b[38;5;241m.\u001b[39mselect_by_value(\u001b[38;5;124m\"\u001b[39m\u001b[38;5;124mA\u001b[39m\u001b[38;5;124m\"\u001b[39m)\n\u001b[0;32m     15\u001b[0m botao_enviar \u001b[38;5;241m=\u001b[39m driver\u001b[38;5;241m.\u001b[39mfind_element(By\u001b[38;5;241m.\u001b[39mCLASS_NAME, \u001b[38;5;124m\"\u001b[39m\u001b[38;5;124mbtnPesquisar\u001b[39m\u001b[38;5;124m\"\u001b[39m)\n\u001b[1;32m---> 16\u001b[0m \u001b[43mbotao_enviar\u001b[49m\u001b[38;5;241;43m.\u001b[39;49m\u001b[43mclick\u001b[49m\u001b[43m(\u001b[49m\u001b[43m)\u001b[49m\n",
      "File \u001b[1;32mc:\\Users\\mathe\\AppData\\Local\\Programs\\Python\\Python312\\Lib\\site-packages\\selenium\\webdriver\\remote\\webelement.py:94\u001b[0m, in \u001b[0;36mWebElement.click\u001b[1;34m(self)\u001b[0m\n\u001b[0;32m     92\u001b[0m \u001b[38;5;28;01mdef\u001b[39;00m \u001b[38;5;21mclick\u001b[39m(\u001b[38;5;28mself\u001b[39m) \u001b[38;5;241m-\u001b[39m\u001b[38;5;241m>\u001b[39m \u001b[38;5;28;01mNone\u001b[39;00m:\n\u001b[0;32m     93\u001b[0m \u001b[38;5;250m    \u001b[39m\u001b[38;5;124;03m\"\"\"Clicks the element.\"\"\"\u001b[39;00m\n\u001b[1;32m---> 94\u001b[0m     \u001b[38;5;28;43mself\u001b[39;49m\u001b[38;5;241;43m.\u001b[39;49m\u001b[43m_execute\u001b[49m\u001b[43m(\u001b[49m\u001b[43mCommand\u001b[49m\u001b[38;5;241;43m.\u001b[39;49m\u001b[43mCLICK_ELEMENT\u001b[49m\u001b[43m)\u001b[49m\n",
      "File \u001b[1;32mc:\\Users\\mathe\\AppData\\Local\\Programs\\Python\\Python312\\Lib\\site-packages\\selenium\\webdriver\\remote\\webelement.py:395\u001b[0m, in \u001b[0;36mWebElement._execute\u001b[1;34m(self, command, params)\u001b[0m\n\u001b[0;32m    393\u001b[0m     params \u001b[38;5;241m=\u001b[39m {}\n\u001b[0;32m    394\u001b[0m params[\u001b[38;5;124m\"\u001b[39m\u001b[38;5;124mid\u001b[39m\u001b[38;5;124m\"\u001b[39m] \u001b[38;5;241m=\u001b[39m \u001b[38;5;28mself\u001b[39m\u001b[38;5;241m.\u001b[39m_id\n\u001b[1;32m--> 395\u001b[0m \u001b[38;5;28;01mreturn\u001b[39;00m \u001b[38;5;28;43mself\u001b[39;49m\u001b[38;5;241;43m.\u001b[39;49m\u001b[43m_parent\u001b[49m\u001b[38;5;241;43m.\u001b[39;49m\u001b[43mexecute\u001b[49m\u001b[43m(\u001b[49m\u001b[43mcommand\u001b[49m\u001b[43m,\u001b[49m\u001b[43m \u001b[49m\u001b[43mparams\u001b[49m\u001b[43m)\u001b[49m\n",
      "File \u001b[1;32mc:\\Users\\mathe\\AppData\\Local\\Programs\\Python\\Python312\\Lib\\site-packages\\selenium\\webdriver\\remote\\webdriver.py:380\u001b[0m, in \u001b[0;36mWebDriver.execute\u001b[1;34m(self, driver_command, params)\u001b[0m\n\u001b[0;32m    378\u001b[0m response \u001b[38;5;241m=\u001b[39m \u001b[38;5;28mself\u001b[39m\u001b[38;5;241m.\u001b[39mcommand_executor\u001b[38;5;241m.\u001b[39mexecute(driver_command, params)\n\u001b[0;32m    379\u001b[0m \u001b[38;5;28;01mif\u001b[39;00m response:\n\u001b[1;32m--> 380\u001b[0m     \u001b[38;5;28;43mself\u001b[39;49m\u001b[38;5;241;43m.\u001b[39;49m\u001b[43merror_handler\u001b[49m\u001b[38;5;241;43m.\u001b[39;49m\u001b[43mcheck_response\u001b[49m\u001b[43m(\u001b[49m\u001b[43mresponse\u001b[49m\u001b[43m)\u001b[49m\n\u001b[0;32m    381\u001b[0m     response[\u001b[38;5;124m\"\u001b[39m\u001b[38;5;124mvalue\u001b[39m\u001b[38;5;124m\"\u001b[39m] \u001b[38;5;241m=\u001b[39m \u001b[38;5;28mself\u001b[39m\u001b[38;5;241m.\u001b[39m_unwrap_value(response\u001b[38;5;241m.\u001b[39mget(\u001b[38;5;124m\"\u001b[39m\u001b[38;5;124mvalue\u001b[39m\u001b[38;5;124m\"\u001b[39m, \u001b[38;5;28;01mNone\u001b[39;00m))\n\u001b[0;32m    382\u001b[0m     \u001b[38;5;28;01mreturn\u001b[39;00m response\n",
      "File \u001b[1;32mc:\\Users\\mathe\\AppData\\Local\\Programs\\Python\\Python312\\Lib\\site-packages\\selenium\\webdriver\\remote\\errorhandler.py:229\u001b[0m, in \u001b[0;36mErrorHandler.check_response\u001b[1;34m(self, response)\u001b[0m\n\u001b[0;32m    227\u001b[0m         alert_text \u001b[38;5;241m=\u001b[39m value[\u001b[38;5;124m\"\u001b[39m\u001b[38;5;124malert\u001b[39m\u001b[38;5;124m\"\u001b[39m]\u001b[38;5;241m.\u001b[39mget(\u001b[38;5;124m\"\u001b[39m\u001b[38;5;124mtext\u001b[39m\u001b[38;5;124m\"\u001b[39m)\n\u001b[0;32m    228\u001b[0m     \u001b[38;5;28;01mraise\u001b[39;00m exception_class(message, screen, stacktrace, alert_text)  \u001b[38;5;66;03m# type: ignore[call-arg]  # mypy is not smart enough here\u001b[39;00m\n\u001b[1;32m--> 229\u001b[0m \u001b[38;5;28;01mraise\u001b[39;00m exception_class(message, screen, stacktrace)\n",
      "\u001b[1;31mElementClickInterceptedException\u001b[0m: Message: element click intercepted: Element <button class=\"w-100 btn-buscar btnPesquisar \" type=\"submit\">...</button> is not clickable at point (713, 761). Other element would receive the click: <div class=\"aviso-lgpd row fixed-bottom mensagem-lgpd text-left text-white p-4 shadow d-flex\">...</div>\n  (Session info: chrome=131.0.6778.86)\nStacktrace:\n\tGetHandleVerifier [0x00007FF7AC436CF5+28821]\n\t(No symbol) [0x00007FF7AC3A3880]\n\t(No symbol) [0x00007FF7AC24578A]\n\t(No symbol) [0x00007FF7AC2A0E8E]\n\t(No symbol) [0x00007FF7AC29E92C]\n\t(No symbol) [0x00007FF7AC29BAF6]\n\t(No symbol) [0x00007FF7AC29AA51]\n\t(No symbol) [0x00007FF7AC28CBA0]\n\t(No symbol) [0x00007FF7AC2BF2FA]\n\t(No symbol) [0x00007FF7AC28C3F6]\n\t(No symbol) [0x00007FF7AC2BF510]\n\t(No symbol) [0x00007FF7AC2DF412]\n\t(No symbol) [0x00007FF7AC2BF0A3]\n\t(No symbol) [0x00007FF7AC28A778]\n\t(No symbol) [0x00007FF7AC28B8E1]\n\tGetHandleVerifier [0x00007FF7AC76FCED+3408013]\n\tGetHandleVerifier [0x00007FF7AC78745F+3504127]\n\tGetHandleVerifier [0x00007FF7AC77B63D+3455453]\n\tGetHandleVerifier [0x00007FF7AC4FBDFB+835995]\n\t(No symbol) [0x00007FF7AC3AEB9F]\n\t(No symbol) [0x00007FF7AC3AA854]\n\t(No symbol) [0x00007FF7AC3AA9ED]\n\t(No symbol) [0x00007FF7AC39A1D9]\n\tBaseThreadInitThunk [0x00007FFE8114259D+29]\n\tRtlUserThreadStart [0x00007FFE8284AF38+40]\n"
     ]
    }
   ],
   "source": [
    "uf = driver.find_element(By.ID, \"uf\")\n",
    "select = Select(uf)\n",
    "select.select_by_value(\"MG\")\n",
    "\n",
    "\n",
    "tipo_situacao = driver.find_element(By.ID,\"tipoSituacao\")\n",
    "select = Select(tipo_situacao)\n",
    "select.select_by_value(\"A\")\n",
    "\n",
    "\n",
    "situacao = driver.find_element(By.ID,\"situacao\")\n",
    "select = Select(situacao)\n",
    "select.select_by_value(\"A\")\n",
    "\n",
    "botao_enviar = driver.find_element(By.CLASS_NAME, \"btnPesquisar\")\n",
    "botao_enviar.click()"
   ]
  },
  {
   "cell_type": "markdown",
   "metadata": {},
   "source": [
    "### Selecionar Elementos ###"
   ]
  },
  {
   "cell_type": "code",
   "execution_count": 52,
   "metadata": {},
   "outputs": [
    {
     "name": "stdout",
     "output_type": "stream",
     "text": [
      "ABDALLA FELICIO FILHO\n",
      "ABDALLA SARSUR JÚNIOR\n",
      "ABDALLA UBALDO FELÍCIO\n",
      "ABDENACK ESTEVES TRINDADE\n",
      "ABDIAS DA SILVA LIMA NETO\n",
      "ABDIAS VERSIANI DE AGUIAR\n",
      "ABDO MARCIO SARQUIS HALLACK\n",
      "ABDO SALOMAO JUNIOR\n",
      "ABDULKARIM MILKEM\n",
      "ABEL CARVALHO DE OLIVEIRA JUNIOR\n"
     ]
    }
   ],
   "source": [
    "card_body = driver.find_elements(By.CLASS_NAME, \"card-body\")\n",
    "\n",
    "for card in card_body:\n",
    "    nome = card.find_element(By.TAG_NAME, \"h4\").text\n",
    "    print(nome)\n"
   ]
  },
  {
   "cell_type": "code",
   "execution_count": null,
   "metadata": {},
   "outputs": [],
   "source": []
  },
  {
   "cell_type": "code",
   "execution_count": null,
   "metadata": {},
   "outputs": [],
   "source": [
    "\n"
   ]
  },
  {
   "cell_type": "code",
   "execution_count": null,
   "metadata": {},
   "outputs": [],
   "source": []
  },
  {
   "cell_type": "code",
   "execution_count": null,
   "metadata": {},
   "outputs": [],
   "source": []
  }
 ],
 "metadata": {
  "kernelspec": {
   "display_name": "Python 3",
   "language": "python",
   "name": "python3"
  },
  "language_info": {
   "codemirror_mode": {
    "name": "ipython",
    "version": 3
   },
   "file_extension": ".py",
   "mimetype": "text/x-python",
   "name": "python",
   "nbconvert_exporter": "python",
   "pygments_lexer": "ipython3",
   "version": "3.12.2"
  }
 },
 "nbformat": 4,
 "nbformat_minor": 2
}
